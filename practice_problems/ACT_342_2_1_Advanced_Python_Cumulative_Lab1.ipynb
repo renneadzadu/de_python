{
  "nbformat": 4,
  "nbformat_minor": 0,
  "metadata": {
    "colab": {
      "provenance": []
    },
    "kernelspec": {
      "name": "python3",
      "display_name": "Python 3"
    },
    "language_info": {
      "name": "python"
    }
  },
  "cells": [
    {
      "cell_type": "markdown",
      "source": [
        "#Accessing a Paginated API Endpoint to Explore Data\n",
        "\n",
        "In this lab we will combine concepts that we have learned throughout the class so far. Some of those concepts are:\n",
        "\n",
        ">*   Importing Libraries\n",
        ">*   Looping through nested lists and Dictionaries\n",
        ">*   Make a request to an API Endpoint\n",
        ">*   Define functions based on a given set of conditions\n",
        ">*   Accessing and utilizing JSON data\n",
        ">*   Handling Exception Errors\n",
        ">*   Writing Pseudo-Code\n",
        "<br></br>\n",
        "\n",
        "To complete this lab we will be using data from a Star Wars API. The full documentation can be found here: https://swapi.dev/documentation#intro\n",
        "<br></br> \n",
        "We will be focusing on the \"People Resource\" in this lab.\n",
        "\n",
        "\n"
      ],
      "metadata": {
        "id": "W9LJu8VEIP3p"
      }
    },
    {
      "cell_type": "markdown",
      "source": [
        "Before we start writing code, we need to explore our resource. Some questions to consider:\n",
        "\n",
        "\n",
        "\n",
        "*   What is the base url?\n",
        "*   How many charachters are listed per page?\n",
        "*   How many total charachters are there?\n",
        "*   What keys are available for each charachter?\n",
        "*   What is the data type for each key? *Be careful with Data Types! They can cause some unwanted exceptions as we begin to write our functions*\n",
        "\n",
        "Write the answers to these questions below.\n",
        "\n",
        "\n"
      ],
      "metadata": {
        "id": "MkNS0-Q2KUGj"
      }
    },
    {
      "cell_type": "code",
      "source": [],
      "metadata": {
        "id": "hdShXQivLI9b"
      },
      "execution_count": null,
      "outputs": []
    },
    {
      "cell_type": "markdown",
      "source": [
        "Write the Psuedo-Code for the process that you will use to access the api endpoint, and get all of the charachter data below."
      ],
      "metadata": {
        "id": "6kDt8lqYLOLp"
      }
    },
    {
      "cell_type": "code",
      "source": [],
      "metadata": {
        "id": "-FyCukGGLXOG"
      },
      "execution_count": null,
      "outputs": []
    },
    {
      "cell_type": "markdown",
      "source": [
        "Import all of the reuqired packages to complete this assignment. \n",
        "Include a package to print json in a tabular format."
      ],
      "metadata": {
        "id": "PMtPeI04Lst3"
      }
    },
    {
      "cell_type": "code",
      "source": [],
      "metadata": {
        "id": "GNETMP82L3Z9"
      },
      "execution_count": null,
      "outputs": []
    },
    {
      "cell_type": "markdown",
      "source": [
        "Make your request to the API Endpoint and use a **FOR LOOP** if neccessary to access multiple pages. \n",
        "<br></br>\n",
        "Save all of the responses in one Python Object."
      ],
      "metadata": {
        "id": "WVOtZOtfMHyH"
      }
    },
    {
      "cell_type": "code",
      "source": [],
      "metadata": {
        "id": "7yLJTUIUMkB6"
      },
      "execution_count": null,
      "outputs": []
    },
    {
      "cell_type": "markdown",
      "source": [
        "Create a new Python object that holds on the 'result' key for each page dictionary."
      ],
      "metadata": {
        "id": "ApAz056aMlrF"
      }
    },
    {
      "cell_type": "code",
      "source": [],
      "metadata": {
        "id": "GVLf5PuVY7gj"
      },
      "execution_count": null,
      "outputs": []
    },
    {
      "cell_type": "markdown",
      "source": [
        "Define a function that returns a list of all the charachter names.\n",
        "\n",
        "Call the function."
      ],
      "metadata": {
        "id": "7TVWknUzZNIS"
      }
    },
    {
      "cell_type": "code",
      "source": [],
      "metadata": {
        "id": "WLUSa9msZYOv"
      },
      "execution_count": null,
      "outputs": []
    },
    {
      "cell_type": "markdown",
      "source": [
        "Define a function that counts the total number of male charachters and the total number of female charachters. Return both numbers.\n",
        "\n",
        "Call the function.\n",
        "<br></br>\n",
        "Considerations: Do all charachters have the gender male or female?"
      ],
      "metadata": {
        "id": "SPV49uLFZaz3"
      }
    },
    {
      "cell_type": "code",
      "source": [],
      "metadata": {
        "id": "pALC6DJxZqxD"
      },
      "execution_count": null,
      "outputs": []
    },
    {
      "cell_type": "markdown",
      "source": [
        "Define a function that returns a list of all the charachters that appear in more than 'x' number of films. Where 'x' is an integer that is passed as an argument into the function.\n",
        "\n",
        "Call the function with at least two test cases.\n",
        "<br></br>\n",
        "Considerations: Is 'more' than inclusive of the number passed?"
      ],
      "metadata": {
        "id": "0NVoP8RwZwwW"
      }
    },
    {
      "cell_type": "code",
      "source": [],
      "metadata": {
        "id": "HNU93nk1aJwr"
      },
      "execution_count": null,
      "outputs": []
    },
    {
      "cell_type": "markdown",
      "source": [
        "Define a function that returns a list of all the charachters that start with a specific letter. Where the letter is passed as a string as an argument into the function.\n",
        "\n",
        "Call the function with an uppercase letter.\n",
        "Call the function with the same charachter as a lowercase letter.\n",
        "<br></br>\n",
        "Considerations: How do you handle the type of charachter being passed? There are many different ways to make this work. Be Creative."
      ],
      "metadata": {
        "id": "eIIBFhc2aKJk"
      }
    },
    {
      "cell_type": "code",
      "source": [],
      "metadata": {
        "id": "3VnNmKdybwiP"
      },
      "execution_count": null,
      "outputs": []
    },
    {
      "cell_type": "markdown",
      "source": [
        "Define a function that returns a tuple of the min, max, and avg height for all charachters converted into feet.\n",
        "\n",
        "Unpack the tuple when making the function call.\n",
        "<br></br>\n",
        "Considerations: Use built-in methods for the min, max, and avg."
      ],
      "metadata": {
        "id": "ra4huEK5bSn8"
      }
    },
    {
      "cell_type": "code",
      "source": [],
      "metadata": {
        "id": "Lk57X-DWbvgd"
      },
      "execution_count": null,
      "outputs": []
    },
    {
      "cell_type": "markdown",
      "source": [
        "Define a function that accepts two arguments: eye color and hair color. Return a dictionary with the min, max, and avg height based on the arguments given.\n",
        "\n",
        "Call the function using \"blue\" for the eye color and \"blond\" for the hair color.\n",
        "\n",
        "Call the function using arguments of your choice.\n",
        "\n"
      ],
      "metadata": {
        "id": "IKwDIQTYb435"
      }
    },
    {
      "cell_type": "code",
      "source": [],
      "metadata": {
        "id": "zMvacURNcyE5"
      },
      "execution_count": null,
      "outputs": []
    }
  ]
}