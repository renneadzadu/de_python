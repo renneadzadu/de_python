{
  "cells": [
    {
      "cell_type": "markdown",
      "metadata": {
        "id": "fxJ6r0UtCx8d"
      },
      "source": [
        "# Dictionary Practice Excercises- Advanced\n",
        "\n",
        "Complete the following practice excercises below to build up your skills with manipulating dictionaries.\n",
        "\n"
      ]
    },
    {
      "cell_type": "markdown",
      "metadata": {
        "id": "SPZ5wKD54OV8"
      },
      "source": [
        "**Problem 1**\n",
        "\n",
        "* Add the following key/value pair to the dictionary below.\n",
        "  \"oceans\": [\"Pacific\", \"Atlantic\", \"Indian\", \"Arctic\"] \n",
        "\n"
      ]
    },
    {
      "cell_type": "code",
      "execution_count": 1,
      "metadata": {
        "id": "su6Dtm2l7moD"
      },
      "outputs": [
        {
          "name": "stdout",
          "output_type": "stream",
          "text": [
            "{'continets': ['North America', 'South America', 'Africa', 'Antarctica', 'Australia', 'Asia', 'Europe'], 'oceans': ['Pacific', 'Atlantic', 'Indian', 'Arctic']}\n"
          ]
        }
      ],
      "source": [
        "geography= {\"continets\": [\"North America\", \"South America\", \"Africa\", \"Antarctica\", \"Australia\", \"Asia\", \"Europe\"]}\n",
        "geography.update( {\"oceans\": [\"Pacific\", \"Atlantic\", \"Indian\", \"Arctic\"]})\n",
        "\n",
        "print(geography)"
      ]
    },
    {
      "cell_type": "markdown",
      "metadata": {
        "id": "lE7F2U9L75_T"
      },
      "source": [
        "**Problem 2**\n",
        "\n",
        "\n",
        "\n",
        "*   Use the Dictionary below\n",
        "*   Change the value for the height key to 72 inches\n",
        "\n"
      ]
    },
    {
      "cell_type": "code",
      "execution_count": 5,
      "metadata": {
        "id": "Dne-3hDU8lSA"
      },
      "outputs": [
        {
          "name": "stdout",
          "output_type": "stream",
          "text": [
            "{'name': 'John Doe', 'age': 25, 'height': 72, 'symptoms': 'cough'}\n"
          ]
        }
      ],
      "source": [
        "patient= {\"name\": \"John Doe\", \"age\": 25, \"height\": 64, \"symptoms\": \"cough\" }\n",
        "patient[\"height\"]=72\n",
        "\n",
        "print(patient)"
      ]
    },
    {
      "cell_type": "markdown",
      "metadata": {
        "id": "iRqGQjLZ9aDq"
      },
      "source": [
        "**Problem 3**\n",
        "\n",
        "*   Use the same dictionary as above\n",
        "*   Use a Class method to generate a list of tuples that consists of each key:value pair\n",
        "\n"
      ]
    },
    {
      "cell_type": "code",
      "execution_count": 10,
      "metadata": {
        "id": "ej-LPcQw9tlH"
      },
      "outputs": [
        {
          "name": "stdout",
          "output_type": "stream",
          "text": [
            "<class 'dict'>\n"
          ]
        }
      ],
      "source": [
        "patient={\"name\": \"John Doe\", \"age\": 25, \"height\": 64, \"symptoms\": \"cough\"}\n",
        "print(type(patient))"
      ]
    },
    {
      "cell_type": "markdown",
      "metadata": {
        "id": "30gd_UKX9xRj"
      },
      "source": [
        "**Problem 4**\n",
        "\n",
        "\n",
        "\n",
        "*   Use the same dictionary as above\n",
        "*   Use a Class method to print the value of \"name'\n",
        "\n"
      ]
    },
    {
      "cell_type": "code",
      "execution_count": 12,
      "metadata": {
        "id": "jtVXJwpp-E2D"
      },
      "outputs": [
        {
          "name": "stdout",
          "output_type": "stream",
          "text": [
            "dict_items([('name', 'John Doe'), ('age', 25), ('height', 64), ('symptoms', 'cough')])\n"
          ]
        }
      ],
      "source": [
        "my_list = patient.items()\n",
        "print(my_list)"
      ]
    },
    {
      "cell_type": "markdown",
      "metadata": {
        "id": "xEHhz1kf-Fcl"
      },
      "source": [
        "**Problem 5**\n",
        "\n",
        "\n",
        "\n",
        "*   Use the same dictionary as above\n",
        "*   Use a Class method to look for the key \"weight\", and supply a default arguement of 150 if the value is not found\n",
        "\n"
      ]
    },
    {
      "cell_type": "code",
      "execution_count": 18,
      "metadata": {
        "id": "lds025UR-jpK"
      },
      "outputs": [
        {
          "name": "stdout",
          "output_type": "stream",
          "text": [
            "dict_keys(['name', 'age', 'height', 'symptoms'])\n",
            "{'name': 'John Doe', 'age': 25, 'height': 64, 'symptoms': 'cough', 'weight': 150}\n"
          ]
        }
      ],
      "source": [
        "my_value = patient.keys()\n",
        "print(my_value)\n",
        "\n",
        "patient[\"weight\"]= 150\n",
        "print(patient)\n"
      ]
    },
    {
      "cell_type": "markdown",
      "metadata": {
        "id": "AdApgIMi-moT"
      },
      "source": [
        "**Problem 6**\n",
        "\n",
        "\n",
        "*   Use the same dictionary as above\n",
        "*   Use a Class method to remove everything from the dictionary\n",
        "\n",
        "\n"
      ]
    },
    {
      "cell_type": "code",
      "execution_count": 20,
      "metadata": {
        "id": "a7YXxpV7_O1F"
      },
      "outputs": [
        {
          "name": "stdout",
          "output_type": "stream",
          "text": [
            "<built-in method popitem of dict object at 0x000001F08A7FBB40>\n"
          ]
        }
      ],
      "source": [
        "print(patient.popitem)"
      ]
    },
    {
      "cell_type": "markdown",
      "metadata": {
        "id": "9ApUQ9qn_P01"
      },
      "source": [
        "**Problem 7**\n",
        "\n",
        "\n",
        "\n",
        "*   Use the dictionary below\n",
        "*   Use a for loop to move through the dictionary.\n",
        "*   If the value is above 2000, add the value to a new list minus 500\n",
        "*   Example: If the value is 2500, 2000 would be added to the new list\n",
        "\n"
      ]
    },
    {
      "cell_type": "code",
      "execution_count": 30,
      "metadata": {
        "id": "045nPKTs_6qg"
      },
      "outputs": [
        {
          "ename": "TypeError",
          "evalue": "'>' not supported between instances of 'tuple' and 'int'",
          "output_type": "error",
          "traceback": [
            "\u001b[1;31m---------------------------------------------------------------------------\u001b[0m",
            "\u001b[1;31mTypeError\u001b[0m                                 Traceback (most recent call last)",
            "Cell \u001b[1;32mIn[30], line 4\u001b[0m\n\u001b[0;32m      2\u001b[0m newlist\u001b[39m=\u001b[39m[]\n\u001b[0;32m      3\u001b[0m \u001b[39mfor\u001b[39;00m stocks \u001b[39min\u001b[39;00m stock_qty\u001b[39m.\u001b[39mitems():\n\u001b[1;32m----> 4\u001b[0m     \u001b[39mif\u001b[39;00m stocks \u001b[39m>\u001b[39;49m \u001b[39m2000\u001b[39;49m:\n\u001b[0;32m      5\u001b[0m         newlist\u001b[39m.\u001b[39mappend(stocks)\n\u001b[0;32m      7\u001b[0m \u001b[39mprint\u001b[39m(newlist)\n",
            "\u001b[1;31mTypeError\u001b[0m: '>' not supported between instances of 'tuple' and 'int'"
          ]
        }
      ],
      "source": [
        "stock_qty= {\"cookies\": 3200, \"bread\": 500, \"crackers\": 52000, \"chips\": 2000}\n",
        "newlist=[]\n",
        "for stocks in stock_qty.items():\n",
        "    if stocks > 2000:\n",
        "        newlist.append(stocks)\n",
        "    \n",
        "print(newlist)\n",
        "\n"
      ]
    },
    {
      "cell_type": "markdown",
      "metadata": {
        "id": "3TcqNBOGBGTP"
      },
      "source": [
        "**Problem 8 **\n",
        "\n",
        "\n",
        "*   Use the list I did below\n",
        "*   Loop through the list\n",
        "*   Create a dictionary to keep track of how many times a number appears in a list\n",
        "*   Print the final dictionary\n",
        "\n",
        "*   Things to consider:\n",
        "\n",
        ">* How to check if an integer already exists in the new dictionary\n",
        ">* What is the first value when the key gets added to the dictionary?\n",
        ">* How to increase the value of each key on each iteration of the loop?\n",
        "\n",
        "\n",
        "\n"
      ]
    },
    {
      "cell_type": "code",
      "execution_count": 31,
      "metadata": {
        "id": "mfgV0KeYCOuO"
      },
      "outputs": [
        {
          "name": "stdout",
          "output_type": "stream",
          "text": [
            "10\n",
            "9\n",
            "88\n",
            "20\n",
            "9\n",
            "20\n",
            "22\n",
            "101\n",
            "68\n",
            "10\n",
            "108\n",
            "33\n",
            "9\n",
            "53\n"
          ]
        }
      ],
      "source": [
        "my_list= [10, 9, 88, 20, 9, 20, 22, 101, 68, 10, 108, 33, 9, 53]\n",
        "for l in my_list:\n",
        "    print(l)\n"
      ]
    }
  ],
  "metadata": {
    "colab": {
      "provenance": []
    },
    "kernelspec": {
      "display_name": "Python 3",
      "name": "python3"
    },
    "language_info": {
      "codemirror_mode": {
        "name": "ipython",
        "version": 3
      },
      "file_extension": ".py",
      "mimetype": "text/x-python",
      "name": "python",
      "nbconvert_exporter": "python",
      "pygments_lexer": "ipython3",
      "version": "3.10.10"
    }
  },
  "nbformat": 4,
  "nbformat_minor": 0
}
