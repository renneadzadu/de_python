{
  "cells": [
    {
      "cell_type": "markdown",
      "metadata": {
        "id": "ZINQrww1EboC"
      },
      "source": [
        "**Problem 1**\n",
        "\n",
        "Import Numpy as np"
      ]
    },
    {
      "cell_type": "code",
      "execution_count": 1,
      "metadata": {
        "id": "hOtevzjWrR-R"
      },
      "outputs": [],
      "source": [
        "\n",
        "import numpy as np"
      ]
    },
    {
      "cell_type": "markdown",
      "metadata": {
        "id": "K57VSkdZOhlC"
      },
      "source": [
        "**Problem 2**\n",
        "\n",
        "Create a 1D array of numbers from 0 to 9."
      ]
    },
    {
      "cell_type": "code",
      "execution_count": 2,
      "metadata": {
        "id": "EBKnp8nDOpq2"
      },
      "outputs": [
        {
          "name": "stdout",
          "output_type": "stream",
          "text": [
            "[0 1 2 3 4 5 6 7 8 9]\n",
            "[0 1 2 3 4 5 6 7 8 9]\n"
          ]
        }
      ],
      "source": [
        "arry = np.array([0,1,2,3,4,5,6,7,8,9])\n",
        "arry1 = np.array(range(10))\n",
        "\n",
        "print(arry)\n",
        "print(arry1)"
      ]
    },
    {
      "cell_type": "markdown",
      "metadata": {
        "id": "DpYFqU4XOwDO"
      },
      "source": [
        "**Problem 3**\n",
        "\n",
        "Create a 3×3 numpy array of all True’s."
      ]
    },
    {
      "cell_type": "code",
      "execution_count": 7,
      "metadata": {
        "id": "40dFQCLAO-fT"
      },
      "outputs": [
        {
          "name": "stdout",
          "output_type": "stream",
          "text": [
            "[[ True  True  True]\n",
            " [ True  True  True]\n",
            " [ True  True  True]]\n"
          ]
        }
      ],
      "source": [
        "arrTrue = np.array([[True,True,True],\n",
        "                    [True,True,True],\n",
        "                    [True,True,True]] )\n",
        "print(arrTrue)"
      ]
    },
    {
      "cell_type": "markdown",
      "metadata": {
        "id": "r8xDn0etO_Hn"
      },
      "source": [
        "**Problem 4**\n",
        "\n",
        "Extract all odd numbers from arr."
      ]
    },
    {
      "cell_type": "code",
      "execution_count": 55,
      "metadata": {
        "id": "_FeV7PzjPIJ7"
      },
      "outputs": [
        {
          "name": "stdout",
          "output_type": "stream",
          "text": [
            "[1, 3, 5, 7, 9]\n",
            "[1 3 5 7 9]\n",
            "[1 3 5 7 9]\n"
          ]
        }
      ],
      "source": [
        "arr = np.array([0, 1, 2, 3, 4, 5, 6, 7, 8, 9])\n",
        "new_arr= [i for i in arr if i%2==1]\n",
        "\n",
        "new_arr1=np.where(arr %2 ==1)[0]\n",
        "b= arr[arr%2 !=0]\n",
        "\n",
        "\n",
        "print(new_arr)\n",
        "print(new_arr1)\n",
        "print(b)\n"
      ]
    },
    {
      "cell_type": "markdown",
      "metadata": {
        "id": "PMDxdKKvPaQy"
      },
      "source": [
        "**Problem 5**\n",
        "\n",
        "Replace all odd numbers in arr with -1."
      ]
    },
    {
      "cell_type": "code",
      "execution_count": 32,
      "metadata": {
        "id": "utoQqbgNPj72"
      },
      "outputs": [
        {
          "name": "stdout",
          "output_type": "stream",
          "text": [
            "[ 0 -1  2 -1  4 -1  6 -1  8 -1]\n"
          ]
        }
      ],
      "source": [
        "arr = np.array([0, 1, 2, 3, 4, 5, 6, 7, 8, 9])\n",
        "arr[arr%2 ==1] = -1\n",
        "\n",
        "print(arr)\n",
        "\n",
        "\n"
      ]
    },
    {
      "cell_type": "markdown",
      "metadata": {
        "id": "KXZ1Hw1WP0fk"
      },
      "source": [
        "**Problem 6**\n",
        "\n",
        "Convert a 1D array to a 2D array with 2 rows."
      ]
    },
    {
      "cell_type": "code",
      "execution_count": 33,
      "metadata": {
        "id": "9Vgx6sjTP8kj"
      },
      "outputs": [
        {
          "name": "stdout",
          "output_type": "stream",
          "text": [
            "[[0 1 2 3 4]\n",
            " [5 6 7 8 9]]\n"
          ]
        }
      ],
      "source": [
        "arr = np.arange(10)\n",
        "print(np.reshape(arr,(2,5)))\n"
      ]
    },
    {
      "cell_type": "markdown",
      "metadata": {
        "id": "oeZS60tuQB-L"
      },
      "source": [
        "**Problem 7** \n",
        "\n",
        "Stack arrays a and b vertically."
      ]
    },
    {
      "cell_type": "code",
      "execution_count": 40,
      "metadata": {
        "id": "xdIpealnQFnN"
      },
      "outputs": [
        {
          "name": "stdout",
          "output_type": "stream",
          "text": [
            "[[0 1 2 3 4]\n",
            " [5 6 7 8 9]\n",
            " [1 1 1 1 1]\n",
            " [1 1 1 1 1]]\n"
          ]
        }
      ],
      "source": [
        "a = np.arange(10).reshape(2,-1)\n",
        "b = np.repeat(1, 10).reshape(2,-1)\n",
        "print(np.vstack((a,b)))"
      ]
    },
    {
      "cell_type": "markdown",
      "metadata": {
        "id": "zK-hXr8TQcfr"
      },
      "source": [
        "**Problem 8**\n",
        "\n",
        "Stack the arrays a and b horizontally."
      ]
    },
    {
      "cell_type": "code",
      "execution_count": 39,
      "metadata": {
        "id": "ZNxJNgcyQg7T"
      },
      "outputs": [
        {
          "name": "stdout",
          "output_type": "stream",
          "text": [
            "[[0 1 2 3 4 1 1 1 1 1]\n",
            " [5 6 7 8 9 1 1 1 1 1]]\n"
          ]
        }
      ],
      "source": [
        "print(np.hstack((a,b)))"
      ]
    },
    {
      "cell_type": "markdown",
      "metadata": {
        "id": "tUcrp_8tQwra"
      },
      "source": [
        "**Problem 9**\n",
        "\n",
        "Get the common items between a and b."
      ]
    },
    {
      "cell_type": "code",
      "execution_count": 42,
      "metadata": {
        "id": "H-HeXTDAQ-Ia"
      },
      "outputs": [
        {
          "name": "stdout",
          "output_type": "stream",
          "text": [
            "[2 4]\n"
          ]
        }
      ],
      "source": [
        "a = np.array([1,2,3,2,3,4,3,4,5,6])\n",
        "b = np.array([7,2,10,2,7,4,9,4,9,8])\n",
        "c= np.intersect1d(a,b)\n",
        "print(c)"
      ]
    },
    {
      "cell_type": "markdown",
      "metadata": {
        "id": "QJZuspVHREN2"
      },
      "source": [
        "**Problem 10**\n",
        "\n",
        "From array a remove all items present in array b"
      ]
    },
    {
      "cell_type": "code",
      "execution_count": 45,
      "metadata": {
        "id": "Si34slDHRI3Z"
      },
      "outputs": [
        {
          "name": "stdout",
          "output_type": "stream",
          "text": [
            "[1 2 3 4]\n"
          ]
        }
      ],
      "source": [
        "a = np.array([1,2,3,4,5])\n",
        "b = np.array([5,6,7,8,9])\n",
        "ab= np.setdiff1d(a,b)\n",
        "print(ab)"
      ]
    },
    {
      "cell_type": "markdown",
      "metadata": {
        "id": "Kds0TCX9RP17"
      },
      "source": [
        "**Problem 11**\n",
        "\n",
        "Get the positions where elements of a and b match"
      ]
    },
    {
      "cell_type": "code",
      "execution_count": 54,
      "metadata": {
        "id": "IfHkCtxBRToJ"
      },
      "outputs": [
        {
          "name": "stdout",
          "output_type": "stream",
          "text": [
            "(array([1, 3, 5, 7], dtype=int64),)\n",
            "[1 3 5 7]\n"
          ]
        }
      ],
      "source": [
        "a = np.array([1,2,3,2,3,4,3,4,5,6])\n",
        "b = np.array([7,2,10,2,7,4,9,4,9,8])\n",
        "results = np.where(a==b)\n",
        "result = np.where(a==b)[0]\n",
        "\n",
        "print(results)\n",
        "print(result)"
      ]
    },
    {
      "cell_type": "markdown",
      "metadata": {
        "id": "XfB9DvvwRbhI"
      },
      "source": [
        "**Problem 12** \n",
        "\n",
        "Get all items between 5 and 10 from a."
      ]
    },
    {
      "cell_type": "code",
      "execution_count": 6,
      "metadata": {
        "id": "QTVXeUUHRkJW"
      },
      "outputs": [],
      "source": [
        "#a = np.array([2, 6, 1, 9, 10, 3, 27])\n",
        "#result= np.a\n",
        "#print(result)\n",
        "\n"
      ]
    },
    {
      "cell_type": "markdown",
      "metadata": {
        "id": "KfcEtysHRoPx"
      },
      "source": [
        "**Problem 13**\n",
        "\n",
        "Swap columns 1 and 2 in the array arr."
      ]
    },
    {
      "cell_type": "code",
      "execution_count": 38,
      "metadata": {
        "id": "fo33bz2ARx0b"
      },
      "outputs": [
        {
          "name": "stdout",
          "output_type": "stream",
          "text": [
            "[[1 0 2]\n",
            " [4 3 5]\n",
            " [7 6 8]]\n"
          ]
        }
      ],
      "source": [
        "arr = np.arange(9).reshape(3,3)\n",
        "a = arr[:, [0,1,2]] = arr[:, [1,0,2]]\n",
        "print(a)"
      ]
    },
    {
      "cell_type": "markdown",
      "metadata": {
        "id": "e5qFi-P_R18E"
      },
      "source": [
        "**Problem 14**\n",
        "\n",
        "Swap rows 1 and 2 in the array arr."
      ]
    },
    {
      "cell_type": "code",
      "execution_count": 42,
      "metadata": {
        "id": "ieV5B7zYR6KQ"
      },
      "outputs": [
        {
          "name": "stdout",
          "output_type": "stream",
          "text": [
            "[[3 4 5]\n",
            " [0 1 2]\n",
            " [6 7 8]]\n"
          ]
        }
      ],
      "source": [
        "arr = np.arange(9).reshape(3,3)\n",
        "b = arr[[0,1,2],:] = arr[[1,0,2] ,:]\n",
        "print(b)"
      ]
    },
    {
      "cell_type": "markdown",
      "metadata": {
        "id": "ZIY9it8hSArU"
      },
      "source": [
        "**Problem 15**\n",
        "\n",
        "Reverse the rows of a 2D array arr."
      ]
    },
    {
      "cell_type": "code",
      "execution_count": null,
      "metadata": {
        "id": "hOmvemu-SEsS"
      },
      "outputs": [],
      "source": [
        "arr = np.arange(9).reshape(3,3)"
      ]
    },
    {
      "cell_type": "markdown",
      "metadata": {
        "id": "oSgPt_TdSVDy"
      },
      "source": [
        "**Problem 16**\n",
        "\n",
        "Reverse the columns of a 2D array arr."
      ]
    },
    {
      "cell_type": "code",
      "execution_count": 78,
      "metadata": {
        "id": "aWxmDyDISZcD"
      },
      "outputs": [
        {
          "ename": "SyntaxError",
          "evalue": "invalid syntax (3456379143.py, line 2)",
          "output_type": "error",
          "traceback": [
            "\u001b[1;36m  Cell \u001b[1;32mIn[78], line 2\u001b[1;36m\u001b[0m\n\u001b[1;33m    r= arr=[:, ::-1]\u001b[0m\n\u001b[1;37m            ^\u001b[0m\n\u001b[1;31mSyntaxError\u001b[0m\u001b[1;31m:\u001b[0m invalid syntax\n"
          ]
        }
      ],
      "source": [
        "arr = np.arange(9).reshape(3,3)\n",
        "r= arr=[:, ::-1]\n",
        "print(r)"
      ]
    },
    {
      "cell_type": "markdown",
      "metadata": {
        "id": "d2R7iAovSf3I"
      },
      "source": [
        "**Problem 17**\n",
        "\n",
        "Create a 2D array of shape 5x3 to contain random decimal numbers between 5 and 10"
      ]
    },
    {
      "cell_type": "code",
      "execution_count": 71,
      "metadata": {
        "id": "WHHJ70XCSoQw"
      },
      "outputs": [
        {
          "name": "stdout",
          "output_type": "stream",
          "text": [
            "[[5 8 7]\n",
            " [7 7 8]\n",
            " [7 6 7]\n",
            " [5 7 6]\n",
            " [7 9 7]]\n"
          ]
        }
      ],
      "source": [
        "import random\n",
        "arr_2d = np.random.randint(5,10, size=(5,3))\n",
        "print(arr_2d)"
      ]
    },
    {
      "cell_type": "markdown",
      "metadata": {
        "id": "NBCPj9PVSvvS"
      },
      "source": [
        "**Problem 18**\n",
        "\n",
        "Print or show only 3 decimal places of the numpy array rand_arr."
      ]
    },
    {
      "cell_type": "code",
      "execution_count": 74,
      "metadata": {
        "id": "w3LjmoNxS7V9"
      },
      "outputs": [
        {
          "name": "stdout",
          "output_type": "stream",
          "text": [
            "[[0.352 0.21  0.212 0.125 0.929]\n",
            " [0.592 0.35  0.606 0.701 0.669]\n",
            " [0.647 0.661 0.047 0.652 0.569]\n",
            " [0.453 0.339 0.512 0.838 0.552]\n",
            " [0.972 0.201 0.731 0.714 0.417]]\n"
          ]
        }
      ],
      "source": [
        "rand_arr =np.random.rand(5,5)\n",
        "np.set_printoptions(precision=3)\n",
        "print(rand_arr)"
      ]
    }
  ],
  "metadata": {
    "colab": {
      "provenance": []
    },
    "kernelspec": {
      "display_name": "Python 3",
      "name": "python3"
    },
    "language_info": {
      "codemirror_mode": {
        "name": "ipython",
        "version": 3
      },
      "file_extension": ".py",
      "mimetype": "text/x-python",
      "name": "python",
      "nbconvert_exporter": "python",
      "pygments_lexer": "ipython3",
      "version": "3.10.10"
    }
  },
  "nbformat": 4,
  "nbformat_minor": 0
}
